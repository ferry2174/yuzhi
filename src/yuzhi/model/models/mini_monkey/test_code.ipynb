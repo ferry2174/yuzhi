{
 "cells": [
  {
   "cell_type": "code",
   "execution_count": 7,
   "metadata": {},
   "outputs": [
    {
     "name": "stderr",
     "output_type": "stream",
     "text": [
      "Special tokens have been added in the vocabulary, make sure the associated word embeddings are fine-tuned or trained.\n"
     ]
    },
    {
     "name": "stdout",
     "output_type": "stream",
     "text": [
      "InternLM2Tokenizer(name_or_path='/home/zhangjingbo/Workspace/Mini-Monkey', vocab_size=92544, model_max_length=8192, is_fast=False, padding_side='right', truncation_side='right', special_tokens={'bos_token': '<s>', 'eos_token': '</s>', 'unk_token': '<unk>', 'pad_token': '</s>', 'additional_special_tokens': ['<|im_start|>', '<|im_end|>', '<|action_start|>', '<|action_end|>', '<|interpreter|>', '<|plugin|>', '<img>', '</img>', '<IMG_CONTEXT>', '<quad>', '</quad>', '<ref>', '</ref>', '<box>', '</box>']}, clean_up_tokenization_spaces=False),  added_tokens_decoder={\n",
      "\t0: AddedToken(\"<unk>\", rstrip=False, lstrip=False, single_word=False, normalized=False, special=True),\n",
      "\t1: AddedToken(\"<s>\", rstrip=False, lstrip=False, single_word=False, normalized=False, special=True),\n",
      "\t2: AddedToken(\"</s>\", rstrip=False, lstrip=False, single_word=False, normalized=False, special=True),\n",
      "\t92538: AddedToken(\"<|plugin|>\", rstrip=False, lstrip=False, single_word=False, normalized=False, special=True),\n",
      "\t92539: AddedToken(\"<|interpreter|>\", rstrip=False, lstrip=False, single_word=False, normalized=False, special=True),\n",
      "\t92540: AddedToken(\"<|action_end|>\", rstrip=False, lstrip=False, single_word=False, normalized=False, special=True),\n",
      "\t92541: AddedToken(\"<|action_start|>\", rstrip=False, lstrip=False, single_word=False, normalized=False, special=True),\n",
      "\t92542: AddedToken(\"<|im_end|>\", rstrip=False, lstrip=False, single_word=False, normalized=False, special=True),\n",
      "\t92543: AddedToken(\"<|im_start|>\", rstrip=False, lstrip=False, single_word=False, normalized=False, special=True),\n",
      "\t92544: AddedToken(\"<img>\", rstrip=False, lstrip=False, single_word=False, normalized=False, special=True),\n",
      "\t92545: AddedToken(\"</img>\", rstrip=False, lstrip=False, single_word=False, normalized=False, special=True),\n",
      "\t92546: AddedToken(\"<IMG_CONTEXT>\", rstrip=False, lstrip=False, single_word=False, normalized=False, special=True),\n",
      "\t92547: AddedToken(\"<quad>\", rstrip=False, lstrip=False, single_word=False, normalized=False, special=True),\n",
      "\t92548: AddedToken(\"</quad>\", rstrip=False, lstrip=False, single_word=False, normalized=False, special=True),\n",
      "\t92549: AddedToken(\"<ref>\", rstrip=False, lstrip=False, single_word=False, normalized=False, special=True),\n",
      "\t92550: AddedToken(\"</ref>\", rstrip=False, lstrip=False, single_word=False, normalized=False, special=True),\n",
      "\t92551: AddedToken(\"<box>\", rstrip=False, lstrip=False, single_word=False, normalized=False, special=True),\n",
      "\t92552: AddedToken(\"</box>\", rstrip=False, lstrip=False, single_word=False, normalized=False, special=True),\n",
      "}\n",
      "['Hello', ',', '▁my', '▁name', '▁is', '▁John', '.']\n",
      "[1, 9843, 328, 983, 963, 505, 3917, 281]\n",
      " <s>Hello, my name is John.\n"
     ]
    },
    {
     "data": {
      "text/plain": [
       "('/home/zhangjingbo/Workspace/Mini-Monkey/tokenizer/tokenizer_config.json',\n",
       " '/home/zhangjingbo/Workspace/Mini-Monkey/tokenizer/special_tokens_map.json',\n",
       " '/home/zhangjingbo/Workspace/Mini-Monkey/tokenizer/./tokenizer.model',\n",
       " '/home/zhangjingbo/Workspace/Mini-Monkey/tokenizer/added_tokens.json')"
      ]
     },
     "execution_count": 7,
     "metadata": {},
     "output_type": "execute_result"
    }
   ],
   "source": [
    "from tokenization_internlm2 import InternLM2Tokenizer\n",
    "\n",
    "checkpoint_path = \"/home/zhangjingbo/Workspace/Mini-Monkey\"\n",
    "\n",
    "tokenizer = InternLM2Tokenizer.from_pretrained(checkpoint_path)\n",
    "print(tokenizer)\n",
    "#print(tokenizer.tokenize(\"Hello, my name is John.\"))\n",
    "#print(tokenizer.encode(\"Hello, my name is John.\"))\n",
    "#print(tokenizer.decode(tokenizer.encode(\"Hello, my name is John.\")))\n",
    "#\n",
    "#save_tokenizer_path = \"/home/zhangjingbo/Workspace/Mini-Monkey/tokenizer\"\n",
    "#tokenizer.save_pretrained(save_tokenizer_path)"
   ]
  },
  {
   "cell_type": "code",
   "execution_count": null,
   "metadata": {},
   "outputs": [],
   "source": [
    "from modeling_minimonkey_chat import MiniMonkeyChatModel\n",
    "\n",
    "checkpoint_path = \"/home/zhangjingbo/Workspace/Mini-Monkey\"\n",
    "model = MiniMonkeyChatModel.from_pretrained(checkpoint_path)\n",
    "model"
   ]
  }
 ],
 "metadata": {
  "kernelspec": {
   "display_name": "yuzhi_dev",
   "language": "python",
   "name": "python3"
  },
  "language_info": {
   "codemirror_mode": {
    "name": "ipython",
    "version": 3
   },
   "file_extension": ".py",
   "mimetype": "text/x-python",
   "name": "python",
   "nbconvert_exporter": "python",
   "pygments_lexer": "ipython3",
   "version": "3.10.14"
  }
 },
 "nbformat": 4,
 "nbformat_minor": 2
}
